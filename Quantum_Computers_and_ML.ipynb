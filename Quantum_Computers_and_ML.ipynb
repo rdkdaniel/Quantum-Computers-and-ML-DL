{
  "nbformat": 4,
  "nbformat_minor": 0,
  "metadata": {
    "colab": {
      "provenance": [],
      "authorship_tag": "ABX9TyNVq5xwYFDW4jksGwUFKubz",
      "include_colab_link": true
    },
    "kernelspec": {
      "name": "python3",
      "display_name": "Python 3"
    },
    "language_info": {
      "name": "python"
    }
  },
  "cells": [
    {
      "cell_type": "markdown",
      "metadata": {
        "id": "view-in-github",
        "colab_type": "text"
      },
      "source": [
        "<a href=\"https://colab.research.google.com/github/rdkdaniel/Quantum-Computers-and-ML-DL/blob/main/Quantum_Computers_and_ML.ipynb\" target=\"_parent\"><img src=\"https://colab.research.google.com/assets/colab-badge.svg\" alt=\"Open In Colab\"/></a>"
      ]
    },
    {
      "cell_type": "markdown",
      "source": [
        "# **A General Review**"
      ],
      "metadata": {
        "id": "2ziBv4LycjYd"
      }
    },
    {
      "cell_type": "markdown",
      "source": [
        "**Introduction**\n",
        "\n",
        "Interesting Reads and Resources:\n",
        "\n",
        "\n",
        "*   https://www.nature.com/articles/s41467-021-22539-9\n",
        "*   https://ai.googleblog.com/2021/06/quantum-machine-learning-and-power-of.html\n",
        "*   https://blog.paperspace.com/beginners-guide-to-quantum-machine-learning/\n",
        "*   https://research.ibm.com/topics/quantum-machine-learning\n",
        "*   https://www.nature.com/articles/s41567-021-01287-z\n",
        "\n"
      ],
      "metadata": {
        "id": "g1WyZT22cna9"
      }
    },
    {
      "cell_type": "code",
      "execution_count": null,
      "metadata": {
        "id": "Mb0OgY-qcc8i"
      },
      "outputs": [],
      "source": [
        "#Quantum advantage over a classical computer is often framed in terms of computational complexity classes. \n",
        "#Examples such as factoring large numbers and simulating quantum systems are classified as bounded quantum polynomial time (BQP) problems.\n",
        "#Which are those thought to be handled more easily by quantum computers than by classical systems. \n",
        "#Problems easily solved on classical computers are called bounded probabilistic polynomial (BPP) problems"
      ]
    },
    {
      "cell_type": "code",
      "source": [
        "#Google Research show:\n",
        "#Learning algorithms equipped with data from a quantum process, such as a natural process like fusion or chemical reactions, form a new class of problems (which they call BPP/Samp).\n",
        "#That efficiently perform some tasks that traditional algorithms without data cannot, and is a subclass of the problems efficiently solvable with polynomial sized advice (P/poly). \n",
        "#This demonstrates that for some machine learning tasks, understanding the quantum advantage requires examination of available data as well."
      ],
      "metadata": {
        "id": "qZm3CIhyoStE"
      },
      "execution_count": null,
      "outputs": []
    },
    {
      "cell_type": "code",
      "source": [
        "#Checkout the image showing the intersection of BQP, BPP, BPP/Samp and P/Poly"
      ],
      "metadata": {
        "id": "b3JJAdCZov4s"
      },
      "execution_count": null,
      "outputs": []
    }
  ]
}