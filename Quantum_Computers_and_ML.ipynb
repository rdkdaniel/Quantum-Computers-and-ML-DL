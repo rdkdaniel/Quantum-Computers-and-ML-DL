{
  "nbformat": 4,
  "nbformat_minor": 0,
  "metadata": {
    "colab": {
      "provenance": [],
      "authorship_tag": "ABX9TyOdsMb3iPEajGBPcRqI19KQ",
      "include_colab_link": true
    },
    "kernelspec": {
      "name": "python3",
      "display_name": "Python 3"
    },
    "language_info": {
      "name": "python"
    }
  },
  "cells": [
    {
      "cell_type": "markdown",
      "metadata": {
        "id": "view-in-github",
        "colab_type": "text"
      },
      "source": [
        "<a href=\"https://colab.research.google.com/github/rdkdaniel/Quantum-Computers-and-ML-DL/blob/main/Quantum_Computers_and_ML.ipynb\" target=\"_parent\"><img src=\"https://colab.research.google.com/assets/colab-badge.svg\" alt=\"Open In Colab\"/></a>"
      ]
    },
    {
      "cell_type": "markdown",
      "source": [
        "# **A General Review**"
      ],
      "metadata": {
        "id": "2ziBv4LycjYd"
      }
    },
    {
      "cell_type": "markdown",
      "source": [
        "**Introduction**\n",
        "\n",
        "Interesting Reads and Resources:\n",
        "\n",
        "\n",
        "*   https://www.nature.com/articles/s41467-021-22539-9\n",
        "*   https://ai.googleblog.com/2021/06/quantum-machine-learning-and-power-of.html\n",
        "*   https://blog.paperspace.com/beginners-guide-to-quantum-machine-learning/\n",
        "*   https://research.ibm.com/topics/quantum-machine-learning\n",
        "*   https://www.nature.com/articles/s41567-021-01287-z\n",
        "\n"
      ],
      "metadata": {
        "id": "g1WyZT22cna9"
      }
    },
    {
      "cell_type": "code",
      "execution_count": null,
      "metadata": {
        "id": "Mb0OgY-qcc8i"
      },
      "outputs": [],
      "source": []
    }
  ]
}